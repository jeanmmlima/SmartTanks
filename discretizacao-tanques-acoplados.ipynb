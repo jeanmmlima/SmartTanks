{
 "cells": [
  {
   "cell_type": "code",
   "execution_count": 6,
   "metadata": {},
   "outputs": [
    {
     "name": "stdout",
     "output_type": "stream",
     "text": [
      "StateSpaceContinuous(\n",
      "array([[-0.06563478,  0.        ],\n",
      "       [ 0.06563478, -0.06563478]]),\n",
      "array([[0.29643186],\n",
      "       [0.        ]]),\n",
      "array([[1, 1]]),\n",
      "array([[0]]),\n",
      "dt: None\n",
      ")\n"
     ]
    }
   ],
   "source": [
    "import numpy as np\n",
    "from scipy import signal\n",
    "\n",
    "### planta em espaço de estados\n",
    "\n",
    "# Tank orifice diameter    (cm^2)\n",
    "a1 = 0.17813919765\n",
    "a2 = a1\n",
    "    # Tank base area (cm^2)\n",
    "A1 = 15.5179\n",
    "A2 = A1\n",
    "    # Gravitational acceleration (m/s^2)\n",
    "g = 980.7\n",
    "    # Pump flow constant ((cm^3)/sV)\n",
    "km = 4.6\n",
    "    # ODEs Constants\n",
    "L20 = 15\n",
    "L10 = ( (a2*a2)/(a1*a1) ) * L20\n",
    "\n",
    "# State space\n",
    "A11 = -1*(a1/A1)*np.sqrt(g/(2*L10))\n",
    "A12 = 0\n",
    "A21 = (a1/A2)*np.sqrt(g/(2*L10))\n",
    "A22 = -1*(a2/A2)*np.sqrt(g/(2*L20))\n",
    "B1 = (km/A1)\n",
    "B2 = 0.0\n",
    "x1 = 0.0    \n",
    "x2 = 0.0\n",
    "\n",
    "A = np.array([[A11, A12],[A21, A22]])\n",
    "B = np.array([[B1],[B2]])\n",
    "C = np.array([[1,1]])\n",
    "D = np.array([[0]])\n",
    "\n",
    "sys = signal.StateSpace(A, B, C, D)\n",
    "\n",
    "print(sys)"
   ]
  },
  {
   "cell_type": "code",
   "execution_count": 7,
   "metadata": {},
   "outputs": [
    {
     "data": {
      "text/plain": [
       "StateSpaceDiscrete(\n",
       "array([[0.99345802, 0.        ],\n",
       "       [0.00652054, 0.99345802]]),\n",
       "array([[2.95461175e-02],\n",
       "       [9.68565708e-05]]),\n",
       "array([[1, 1]]),\n",
       "array([[0]]),\n",
       "dt: 0.1\n",
       ")"
      ]
     },
     "execution_count": 7,
     "metadata": {},
     "output_type": "execute_result"
    }
   ],
   "source": [
    "sys.to_discrete(0.1)"
   ]
  },
  {
   "cell_type": "code",
   "execution_count": 10,
   "metadata": {},
   "outputs": [
    {
     "name": "stdout",
     "output_type": "stream",
     "text": [
      "0.984521630708102\n",
      "0.21265764053125746\n",
      "StateSpaceContinuous(\n",
      "array([[0.90623904, 0.        ],\n",
      "       [0.08922119, 0.90623904]]),\n",
      "array([[0.02025246],\n",
      "       [0.00098059]]),\n",
      "array([[1, 1]]),\n",
      "array([[0]]),\n",
      "dt: None\n",
      ")\n"
     ]
    }
   ],
   "source": [
    "### modelo discrto da planta DIFERENTE\n",
    "\n",
    "alfa = (a1/A1)*np.sqrt(g/2*L20)\n",
    "print(alfa)\n",
    "\n",
    "beta = 3.3/A1\n",
    "print(beta)\n",
    "\n",
    "A = np.array([[np.exp(-1*alfa*0.1), 0],[alfa*0.1*np.exp(-1*alfa*0.1), np.exp(-1*alfa*0.1)]])\n",
    "B = np.array([[(beta/alfa)*(1 - np.exp(-1*alfa*0.1))],[(beta/alfa)*(1 - np.exp(-1*alfa*0.1)*((alfa*0.1)+1))]])\n",
    "C = np.array([[1,1]])\n",
    "D = np.array([[0]])\n",
    "\n",
    "sys = signal.StateSpace(A, B, C, D)\n",
    "\n",
    "print(sys)"
   ]
  },
  {
   "cell_type": "code",
   "execution_count": 15,
   "metadata": {},
   "outputs": [],
   "source": [
    "import os\n",
    "import re\n",
    "import math\n",
    "import signal\n",
    "import os\n",
    "\n",
    "def noise(noiseProb,noiseMax):\n",
    "    if int(os.urandom(1).encode('hex'),16)/255. < noiseProb:    \n",
    "        i = int(os.urandom(4).encode('hex'),16) % noiseMax\n",
    "        f = float(int(os.urandom(6).encode('hex'),16))\n",
    "        f =  f/10000.0 - float(int(f/10000.0))\n",
    "        return i+f\n",
    "    else:\n",
    "        return 0"
   ]
  },
  {
   "cell_type": "code",
   "execution_count": 16,
   "metadata": {},
   "outputs": [
    {
     "ename": "AttributeError",
     "evalue": "'bytes' object has no attribute 'encode'",
     "output_type": "error",
     "traceback": [
      "\u001b[0;31m---------------------------------------------------------------------------\u001b[0m",
      "\u001b[0;31mAttributeError\u001b[0m                            Traceback (most recent call last)",
      "\u001b[0;32m<ipython-input-16-96c352da9003>\u001b[0m in \u001b[0;36m<module>\u001b[0;34m\u001b[0m\n\u001b[0;32m----> 1\u001b[0;31m \u001b[0mnoise\u001b[0m\u001b[0;34m(\u001b[0m\u001b[0;36m0\u001b[0m\u001b[0;34m,\u001b[0m\u001b[0;36m12\u001b[0m\u001b[0;34m)\u001b[0m\u001b[0;34m\u001b[0m\u001b[0;34m\u001b[0m\u001b[0m\n\u001b[0m",
      "\u001b[0;32m<ipython-input-15-8c23c6c616d0>\u001b[0m in \u001b[0;36mnoise\u001b[0;34m(noiseProb, noiseMax)\u001b[0m\n\u001b[1;32m      6\u001b[0m \u001b[0;34m\u001b[0m\u001b[0m\n\u001b[1;32m      7\u001b[0m \u001b[0;32mdef\u001b[0m \u001b[0mnoise\u001b[0m\u001b[0;34m(\u001b[0m\u001b[0mnoiseProb\u001b[0m\u001b[0;34m,\u001b[0m\u001b[0mnoiseMax\u001b[0m\u001b[0;34m)\u001b[0m\u001b[0;34m:\u001b[0m\u001b[0;34m\u001b[0m\u001b[0;34m\u001b[0m\u001b[0m\n\u001b[0;32m----> 8\u001b[0;31m     \u001b[0;32mif\u001b[0m \u001b[0mint\u001b[0m\u001b[0;34m(\u001b[0m\u001b[0mos\u001b[0m\u001b[0;34m.\u001b[0m\u001b[0murandom\u001b[0m\u001b[0;34m(\u001b[0m\u001b[0;36m1\u001b[0m\u001b[0;34m)\u001b[0m\u001b[0;34m.\u001b[0m\u001b[0mencode\u001b[0m\u001b[0;34m(\u001b[0m\u001b[0;34m'hex'\u001b[0m\u001b[0;34m)\u001b[0m\u001b[0;34m,\u001b[0m\u001b[0;36m16\u001b[0m\u001b[0;34m)\u001b[0m\u001b[0;34m/\u001b[0m\u001b[0;36m255.\u001b[0m \u001b[0;34m<\u001b[0m \u001b[0mnoiseProb\u001b[0m\u001b[0;34m:\u001b[0m\u001b[0;34m\u001b[0m\u001b[0;34m\u001b[0m\u001b[0m\n\u001b[0m\u001b[1;32m      9\u001b[0m         \u001b[0mi\u001b[0m \u001b[0;34m=\u001b[0m \u001b[0mint\u001b[0m\u001b[0;34m(\u001b[0m\u001b[0mos\u001b[0m\u001b[0;34m.\u001b[0m\u001b[0murandom\u001b[0m\u001b[0;34m(\u001b[0m\u001b[0;36m4\u001b[0m\u001b[0;34m)\u001b[0m\u001b[0;34m.\u001b[0m\u001b[0mencode\u001b[0m\u001b[0;34m(\u001b[0m\u001b[0;34m'hex'\u001b[0m\u001b[0;34m)\u001b[0m\u001b[0;34m,\u001b[0m\u001b[0;36m16\u001b[0m\u001b[0;34m)\u001b[0m \u001b[0;34m%\u001b[0m \u001b[0mnoiseMax\u001b[0m\u001b[0;34m\u001b[0m\u001b[0;34m\u001b[0m\u001b[0m\n\u001b[1;32m     10\u001b[0m         \u001b[0mf\u001b[0m \u001b[0;34m=\u001b[0m \u001b[0mfloat\u001b[0m\u001b[0;34m(\u001b[0m\u001b[0mint\u001b[0m\u001b[0;34m(\u001b[0m\u001b[0mos\u001b[0m\u001b[0;34m.\u001b[0m\u001b[0murandom\u001b[0m\u001b[0;34m(\u001b[0m\u001b[0;36m6\u001b[0m\u001b[0;34m)\u001b[0m\u001b[0;34m.\u001b[0m\u001b[0mencode\u001b[0m\u001b[0;34m(\u001b[0m\u001b[0;34m'hex'\u001b[0m\u001b[0;34m)\u001b[0m\u001b[0;34m,\u001b[0m\u001b[0;36m16\u001b[0m\u001b[0;34m)\u001b[0m\u001b[0;34m)\u001b[0m\u001b[0;34m\u001b[0m\u001b[0;34m\u001b[0m\u001b[0m\n",
      "\u001b[0;31mAttributeError\u001b[0m: 'bytes' object has no attribute 'encode'"
     ]
    }
   ],
   "source": [
    "noise(0,12)"
   ]
  },
  {
   "cell_type": "code",
   "execution_count": null,
   "metadata": {},
   "outputs": [],
   "source": []
  }
 ],
 "metadata": {
  "kernelspec": {
   "display_name": "Python 3",
   "language": "python",
   "name": "python3"
  },
  "language_info": {
   "codemirror_mode": {
    "name": "ipython",
    "version": 3
   },
   "file_extension": ".py",
   "mimetype": "text/x-python",
   "name": "python",
   "nbconvert_exporter": "python",
   "pygments_lexer": "ipython3",
   "version": "3.6.12"
  }
 },
 "nbformat": 4,
 "nbformat_minor": 4
}

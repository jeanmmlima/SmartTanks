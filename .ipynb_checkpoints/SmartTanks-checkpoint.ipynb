{
 "cells": [
  {
   "cell_type": "markdown",
   "metadata": {},
   "source": [
    "## SMART TANKS\n",
    "### Coupled tanks simulator based on machine learning"
   ]
  },
  {
   "cell_type": "markdown",
   "metadata": {},
   "source": [
    "#### 1. Required functions"
   ]
  },
  {
   "cell_type": "code",
   "execution_count": 3,
   "metadata": {},
   "outputs": [],
   "source": [
    "### FUNCTIONS\n",
    "\n",
    "#function to scale the dataset\n",
    "def scaleData(data):\n",
    "    s_data = data.copy()\n",
    "    l = len(s_data.T)\n",
    "    for i in range(l):\n",
    "        s_data.iloc[:,i] = ((data.iloc[:,i] - data.iloc[:,i].min())\n",
    "                          / (data.iloc[:,i].max() - data.iloc[:,i].min()))\n",
    "    return s_data\n",
    "\n",
    "#function to standardize the dataset\n",
    "def standardizeData(data):\n",
    "    s_data = data.copy()\n",
    "    l = len(s_data.T)\n",
    "    for i in range(l):\n",
    "        s_data.iloc[:,i] = ((data.iloc[:,i] - data.iloc[:,i].mean())\n",
    "                          / data.iloc[:,i].std())\n",
    "    \n",
    "    return s_data\n",
    "\n",
    "#function to reStand data\n",
    "def reStandData(data,y,n_inputs,n_outputs):\n",
    "    s_y = y.copy()\n",
    "    outs = data.iloc[:,n_inputs:n_inputs+n_outputs]\n",
    "    y_m = np.matrix(y)\n",
    "    l = len(outs.T)\n",
    "    for i in range(l):\n",
    "        s_y = y_m[i,:] * outs.iloc[:,i].std() + outs.iloc[:,i].mean()\n",
    "        \n",
    "    \n",
    "    return np.array(s_y)\n",
    "\n",
    "#function to add previous values as features\n",
    "def addFeatures(data, n, names):\n",
    "    l = len(data.T)\n",
    "    for i in range(l):\n",
    "        for j in range(n):\n",
    "            #names for delayed inputs\n",
    "            #Ex: Input Gas Rate (-1)...\n",
    "            txt = names[i]+' (-'+str(j+1)+')'\n",
    "            if j == 0:\n",
    "                data[txt] = data[names[i]].shift(periods=1)\n",
    "            else:\n",
    "                txt2 = names[i]+' (-'+str(j)+')'\n",
    "                data[txt] = data[txt2].shift(periods=1)\n",
    "            \n",
    "            data.loc[0,txt] = data.loc[1,txt]\n",
    "            \n",
    "        \n",
    "    \n",
    "    return data\n",
    "\n",
    "\n",
    "#split data into X and y\n",
    "def getPairs(fData, n_inputs, n_outputs):\n",
    "    x = fData.iloc[:,0:n_inputs]\n",
    "    delayed_x = fData.iloc[:,n_inputs+n_outputs:]\n",
    "    X = pd.concat([x,delayed_x], axis=1)\n",
    "    y = fData.iloc[:,n_inputs:n_inputs+n_outputs]\n",
    "    return X,y\n",
    "\n",
    "\n",
    "\n",
    "from sklearn.model_selection import train_test_split\n",
    "\n",
    "#getting (shuffled) train and test sets \n",
    "def getTrainTest(X,Y,samples_train=0.85, shuffle=0):\n",
    "    if(shuffle):\n",
    "        X_train, X_test, y_train, y_test = train_test_split(X, Y, test_size=1-samples_train,random_state=1)\n",
    "        return np.array(X_train), np.array(X_test), np.array(y_train), np.array(y_test)\n",
    "    else:\n",
    "        train_size = int(len(X) * samples_train)\n",
    "        test_size = len(X) - train_size\n",
    "        X_train, X_test = X.iloc[0:train_size],X.iloc[train_size:train_size+test_size]\n",
    "        y_train, y_test = Y.iloc[0:train_size],Y.iloc[train_size:train_size+test_size]\n",
    "        return X_train, X_test, y_train, y_test\n",
    "    \n",
    "def getTrainTestNoDF(X,Y,samples_train=0.85):\n",
    "    train_size = int(len(X) * samples_train)\n",
    "    test_size = len(X) - train_size\n",
    "    X_train, X_test = X[0:train_size],X[train_size:train_size+test_size]\n",
    "    y_train, y_test = Y[0:train_size],Y[train_size:train_size+test_size]\n",
    "    return X_train, X_test, y_train, y_test\n",
    "\n",
    "        \n",
    "def plotOuts(y_pred, y_test, title):\n",
    "    l = len(y_pred.T)\n",
    "    for i in range(l):\n",
    "        plt.figure(i)\n",
    "        plt.plot(y_pred[:,i])\n",
    "        plt.plot(y_test[:,i])\n",
    "        plt.xlabel('Sample');\n",
    "\n",
    "\n",
    "def getLearningCurve(history):\n",
    "    plt.figure()\n",
    "    plt.plot(history['loss'], label='train')\n",
    "    plt.plot(history['val_loss'], label='test')\n",
    "    plt.xlabel(\"epochs\")\n",
    "    plt.legend()\n",
    "    plt.show()\n",
    "\n",
    "import pickle\n",
    "\n",
    "def saveHistoryTrain(folder,name,emq,history,verbose=0):\n",
    "    with open('models/'+str(folder)+'/histories/'+str(name)+'_'+str(emq), 'wb') as file_pi:\n",
    "        pickle.dump(history, file_pi)\n",
    "    if(verbose):    \n",
    "        print(\"Histórico de trainamento salvo\")\n",
    "        \n",
    "        \n",
    "def loadHistoryTrain():\n",
    "    history = pickle.load(open('models/histories/ST_'+str(best_ss['emq']), \"rb\"))\n",
    "    return history"
   ]
  },
  {
   "cell_type": "markdown",
   "metadata": {},
   "source": [
    "#### 2. Data preprocessing"
   ]
  },
  {
   "cell_type": "code",
   "execution_count": 37,
   "metadata": {},
   "outputs": [
    {
     "data": {
      "text/html": [
       "<div>\n",
       "<style scoped>\n",
       "    .dataframe tbody tr th:only-of-type {\n",
       "        vertical-align: middle;\n",
       "    }\n",
       "\n",
       "    .dataframe tbody tr th {\n",
       "        vertical-align: top;\n",
       "    }\n",
       "\n",
       "    .dataframe thead th {\n",
       "        text-align: right;\n",
       "    }\n",
       "</style>\n",
       "<table border=\"1\" class=\"dataframe\">\n",
       "  <thead>\n",
       "    <tr style=\"text-align: right;\">\n",
       "      <th></th>\n",
       "      <th>L2</th>\n",
       "      <th>V</th>\n",
       "    </tr>\n",
       "  </thead>\n",
       "  <tbody>\n",
       "    <tr>\n",
       "      <th>0</th>\n",
       "      <td>0.511169</td>\n",
       "      <td>-0.989822</td>\n",
       "    </tr>\n",
       "    <tr>\n",
       "      <th>1</th>\n",
       "      <td>0.509262</td>\n",
       "      <td>-0.989822</td>\n",
       "    </tr>\n",
       "    <tr>\n",
       "      <th>2</th>\n",
       "      <td>0.509262</td>\n",
       "      <td>-0.989822</td>\n",
       "    </tr>\n",
       "  </tbody>\n",
       "</table>\n",
       "</div>"
      ],
      "text/plain": [
       "         L2         V\n",
       "0  0.511169 -0.989822\n",
       "1  0.509262 -0.989822\n",
       "2  0.509262 -0.989822"
      ]
     },
     "execution_count": 37,
     "metadata": {},
     "output_type": "execute_result"
    },
    {
     "data": {
      "image/png": "[encoded data removed]",
      "text/plain": [
       "<Figure size 432x288 with 1 Axes>"
      ]
     },
     "metadata": {
      "needs_background": "light"
     },
     "output_type": "display_data"
    }
   ],
   "source": [
    "import scipy.io\n",
    "import pandas as pd\n",
    "import matplotlib.pyplot as plt\n",
    "mat = scipy.io.loadmat('dados/dados.mat')\n",
    "mat1 = scipy.io.loadmat('dados/dados_all.mat')\n",
    "mat2 = scipy.io.loadmat('dados/resultados2.mat')\n",
    "\n",
    "L2 = mat1.get('DadosAll')[:,1]\n",
    "V = mat1.get('DadosAll')[:,2]\n",
    "\n",
    "plt.plot(L2)\n",
    "plt.plot(V)\n",
    "d = {'L2': L2, 'V': V}\n",
    "tankdata = pd.DataFrame(data=d)\n",
    "tankdata.to_csv('tankdata.csv',index=False)\n",
    "tankdata.head(3)"
   ]
  },
  {
   "cell_type": "code",
   "execution_count": 16,
   "metadata": {},
   "outputs": [
    {
     "data": {
      "text/plain": [
       "{'__header__': b'MATLAB 5.0 MAT-file, Platform: PCWIN64, Created on: Fri Nov 30 18:02:08 2018',\n",
       " '__version__': '1.0',\n",
       " '__globals__': [],\n",
       " 'V': array([[-0.98982232],\n",
       "        [-0.98982232],\n",
       "        [-0.98982232],\n",
       "        ...,\n",
       "        [-1.12091054],\n",
       "        [-1.12091054],\n",
       "        [-1.12091054]]),\n",
       " 'L2': array([[0.51116943],\n",
       "        [0.50926208],\n",
       "        [0.50926208],\n",
       "        ...,\n",
       "        [0.46730042],\n",
       "        [0.46730042],\n",
       "        [0.46730042]])}"
      ]
     },
     "execution_count": 16,
     "metadata": {},
     "output_type": "execute_result"
    }
   ],
   "source": [
    "mat"
   ]
  },
  {
   "cell_type": "code",
   "execution_count": 17,
   "metadata": {},
   "outputs": [
    {
     "data": {
      "text/plain": [
       "{'__header__': b'MATLAB 5.0 MAT-file, Platform: PCWIN64, Created on: Fri Nov 30 17:51:15 2018',\n",
       " '__version__': '1.0',\n",
       " '__globals__': [],\n",
       " 'DadosAll': array([[ 0.00000000e+00,  5.11169434e-01, -9.89822318e-01],\n",
       "        [ 1.00000000e-01,  5.09262085e-01, -9.89822318e-01],\n",
       "        [ 2.00000000e-01,  5.09262085e-01, -9.89822318e-01],\n",
       "        ...,\n",
       "        [ 4.78980000e+03,  4.67300415e-01, -1.12091054e+00],\n",
       "        [ 4.78990000e+03,  4.67300415e-01, -1.12091054e+00],\n",
       "        [ 4.79000000e+03,  4.67300415e-01, -1.12091054e+00]])}"
      ]
     },
     "execution_count": 17,
     "metadata": {},
     "output_type": "execute_result"
    }
   ],
   "source": [
    "mat1"
   ]
  },
  {
   "cell_type": "code",
   "execution_count": 27,
   "metadata": {},
   "outputs": [
    {
     "data": {
      "text/plain": [
       "{'__header__': b'MATLAB 5.0 MAT-file, Platform: PCWIN64, Created on: Fri Nov 23 13:03:11 2018',\n",
       " '__version__': '1.0',\n",
       " '__globals__': [],\n",
       " 'DadoScope': array([[ 1.30000000e-01, -1.73568726e-01,  1.07745361e+00],\n",
       "        [ 1.40000000e-01, -1.75476074e-01,  1.07745361e+00],\n",
       "        [ 1.50000000e-01, -1.73568726e-01,  1.07745361e+00],\n",
       "        ...,\n",
       "        [ 5.99991000e+03,  2.54421234e+01,  3.01074805e+00],\n",
       "        [ 5.99992000e+03,  2.54440308e+01,  3.01074805e+00],\n",
       "        [ 5.99993000e+03,  2.54402161e+01,  3.01074805e+00]])}"
      ]
     },
     "execution_count": 27,
     "metadata": {},
     "output_type": "execute_result"
    }
   ],
   "source": [
    "mat2"
   ]
  },
  {
   "cell_type": "code",
   "execution_count": 29,
   "metadata": {},
   "outputs": [
    {
     "data": {
      "text/plain": [
       "array([0.51116943, 0.50926208, 0.50926208, ..., 0.46730042, 0.46730042,\n",
       "       0.46730042])"
      ]
     },
     "execution_count": 29,
     "metadata": {},
     "output_type": "execute_result"
    }
   ],
   "source": [
    "V"
   ]
  },
  {
   "cell_type": "code",
   "execution_count": 32,
   "metadata": {},
   "outputs": [
    {
     "data": {
      "text/plain": [
       "array([-0.98982232, -0.98982232, -0.98982232, ..., -1.12091054,\n",
       "       -1.12091054, -1.12091054])"
      ]
     },
     "execution_count": 32,
     "metadata": {},
     "output_type": "execute_result"
    }
   ],
   "source": [
    "V"
   ]
  },
  {
   "cell_type": "code",
   "execution_count": null,
   "metadata": {},
   "outputs": [],
   "source": []
  }
 ],
 "metadata": {
  "kernelspec": {
   "display_name": "Python 3",
   "language": "python",
   "name": "python3"
  },
  "language_info": {
   "codemirror_mode": {
    "name": "ipython",
    "version": 3
   },
   "file_extension": ".py",
   "mimetype": "text/x-python",
   "name": "python",
   "nbconvert_exporter": "python",
   "pygments_lexer": "ipython3",
   "version": "3.6.12"
  }
 },
 "nbformat": 4,
 "nbformat_minor": 4
}
